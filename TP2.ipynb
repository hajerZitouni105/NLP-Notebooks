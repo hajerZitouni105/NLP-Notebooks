{
 "cells": [
  {
   "cell_type": "code",
   "execution_count": 1,
   "metadata": {},
   "outputs": [],
   "source": [
    "import re\n",
    "from collections import Counter\n",
    "from sklearn.feature_extraction.text import CountVectorizer\n",
    "import pandas as pd\n",
    "import nltk\n",
    "from nltk.tokenize import word_tokenize, sent_tokenize\n",
    "from gensim.models import Word2Vec"
   ]
  },
  {
   "cell_type": "markdown",
   "metadata": {},
   "source": [
    "## Partie I :"
   ]
  },
  {
   "cell_type": "markdown",
   "metadata": {},
   "source": [
    "### 1) "
   ]
  },
  {
   "cell_type": "code",
   "execution_count": 2,
   "metadata": {},
   "outputs": [],
   "source": [
    "def preprocessing(doc) :\n",
    "    doc = doc.lower()\n",
    "    doc = re.sub(r'[^\\w\\s]', '', doc)\n",
    "    words = doc.split()\n",
    "    return words"
   ]
  },
  {
   "cell_type": "code",
   "execution_count": 3,
   "metadata": {},
   "outputs": [],
   "source": [
    "reviews = [\n",
    "    \"Spider man est un film incroyable !\",\n",
    "    \"Spider man est le meilleur film !\",\n",
    "    \"Spiderman est TELLEMENT génial.\"\n",
    "]"
   ]
  },
  {
   "cell_type": "code",
   "execution_count": 4,
   "metadata": {},
   "outputs": [],
   "source": [
    "# reviews = \"Spider man est un film incroyable ! Spider man est le meilleur film ! Spiderman est TELLEMENT génial.\"\n",
    "# print(\"Vocab: \", set(preprocessing(reviews)))"
   ]
  },
  {
   "cell_type": "code",
   "execution_count": 4,
   "metadata": {},
   "outputs": [
    {
     "name": "stdout",
     "output_type": "stream",
     "text": [
      "Vocab:  {'man', 'un', 'tellement', 'film', 'génial', 'meilleur', 'le', 'est', 'spiderman', 'spider', 'incroyable'}\n"
     ]
    }
   ],
   "source": [
    "combined_vocab = set()\n",
    "for review in reviews:\n",
    "    combined_vocab.update(preprocessing(review))\n",
    "print(\"Vocab: \", combined_vocab)"
   ]
  },
  {
   "cell_type": "markdown",
   "metadata": {},
   "source": [
    "### 2) "
   ]
  },
  {
   "cell_type": "code",
   "execution_count": 5,
   "metadata": {},
   "outputs": [],
   "source": [
    "def calculBOW(doc):\n",
    "    words = preprocessing(doc)\n",
    "    bow = Counter(words)\n",
    "    return bow"
   ]
  },
  {
   "cell_type": "markdown",
   "metadata": {},
   "source": [
    "### 3) "
   ]
  },
  {
   "cell_type": "code",
   "execution_count": 6,
   "metadata": {},
   "outputs": [
    {
     "name": "stdout",
     "output_type": "stream",
     "text": [
      "Counter({'spider': 1, 'man': 1, 'est': 1, 'un': 1, 'film': 1, 'incroyable': 1})\n",
      "Counter({'spider': 1, 'man': 1, 'est': 1, 'le': 1, 'meilleur': 1, 'film': 1})\n",
      "Counter({'spiderman': 1, 'est': 1, 'tellement': 1, 'génial': 1})\n"
     ]
    }
   ],
   "source": [
    "for doc in reviews :\n",
    "    print(calculBOW(doc))"
   ]
  },
  {
   "cell_type": "markdown",
   "metadata": {},
   "source": [
    "### 4)"
   ]
  },
  {
   "cell_type": "code",
   "execution_count": 7,
   "metadata": {},
   "outputs": [],
   "source": [
    "vectorizer = CountVectorizer()\n",
    "X = vectorizer.fit_transform(reviews)"
   ]
  },
  {
   "cell_type": "code",
   "execution_count": 8,
   "metadata": {},
   "outputs": [
    {
     "name": "stdout",
     "output_type": "stream",
     "text": [
      "['est' 'film' 'génial' 'incroyable' 'le' 'man' 'meilleur' 'spider'\n",
      " 'spiderman' 'tellement' 'un']\n"
     ]
    }
   ],
   "source": [
    "print(vectorizer.get_feature_names_out())"
   ]
  },
  {
   "cell_type": "markdown",
   "metadata": {},
   "source": [
    "### 5)"
   ]
  },
  {
   "cell_type": "code",
   "execution_count": 9,
   "metadata": {},
   "outputs": [
    {
     "data": {
      "text/html": [
       "<div>\n",
       "<style scoped>\n",
       "    .dataframe tbody tr th:only-of-type {\n",
       "        vertical-align: middle;\n",
       "    }\n",
       "\n",
       "    .dataframe tbody tr th {\n",
       "        vertical-align: top;\n",
       "    }\n",
       "\n",
       "    .dataframe thead th {\n",
       "        text-align: right;\n",
       "    }\n",
       "</style>\n",
       "<table border=\"1\" class=\"dataframe\">\n",
       "  <thead>\n",
       "    <tr style=\"text-align: right;\">\n",
       "      <th></th>\n",
       "      <th>est</th>\n",
       "      <th>film</th>\n",
       "      <th>génial</th>\n",
       "      <th>incroyable</th>\n",
       "      <th>le</th>\n",
       "      <th>man</th>\n",
       "      <th>meilleur</th>\n",
       "      <th>spider</th>\n",
       "      <th>spiderman</th>\n",
       "      <th>tellement</th>\n",
       "      <th>un</th>\n",
       "    </tr>\n",
       "  </thead>\n",
       "  <tbody>\n",
       "    <tr>\n",
       "      <th>0</th>\n",
       "      <td>1</td>\n",
       "      <td>1</td>\n",
       "      <td>0</td>\n",
       "      <td>1</td>\n",
       "      <td>0</td>\n",
       "      <td>1</td>\n",
       "      <td>0</td>\n",
       "      <td>1</td>\n",
       "      <td>0</td>\n",
       "      <td>0</td>\n",
       "      <td>1</td>\n",
       "    </tr>\n",
       "    <tr>\n",
       "      <th>1</th>\n",
       "      <td>1</td>\n",
       "      <td>1</td>\n",
       "      <td>0</td>\n",
       "      <td>0</td>\n",
       "      <td>1</td>\n",
       "      <td>1</td>\n",
       "      <td>1</td>\n",
       "      <td>1</td>\n",
       "      <td>0</td>\n",
       "      <td>0</td>\n",
       "      <td>0</td>\n",
       "    </tr>\n",
       "    <tr>\n",
       "      <th>2</th>\n",
       "      <td>1</td>\n",
       "      <td>0</td>\n",
       "      <td>1</td>\n",
       "      <td>0</td>\n",
       "      <td>0</td>\n",
       "      <td>0</td>\n",
       "      <td>0</td>\n",
       "      <td>0</td>\n",
       "      <td>1</td>\n",
       "      <td>1</td>\n",
       "      <td>0</td>\n",
       "    </tr>\n",
       "  </tbody>\n",
       "</table>\n",
       "</div>"
      ],
      "text/plain": [
       "   est  film  génial  incroyable  le  man  meilleur  spider  spiderman  \\\n",
       "0    1     1       0           1   0    1         0       1          0   \n",
       "1    1     1       0           0   1    1         1       1          0   \n",
       "2    1     0       1           0   0    0         0       0          1   \n",
       "\n",
       "   tellement  un  \n",
       "0          0   1  \n",
       "1          0   0  \n",
       "2          1   0  "
      ]
     },
     "execution_count": 9,
     "metadata": {},
     "output_type": "execute_result"
    }
   ],
   "source": [
    "count_array = X.toarray()\n",
    "df = pd.DataFrame(data=count_array,columns = vectorizer.get_feature_names_out())\n",
    "df"
   ]
  },
  {
   "cell_type": "markdown",
   "metadata": {},
   "source": [
    "### 6)"
   ]
  },
  {
   "cell_type": "code",
   "execution_count": 10,
   "metadata": {},
   "outputs": [
    {
     "data": {
      "text/html": [
       "<div>\n",
       "<style scoped>\n",
       "    .dataframe tbody tr th:only-of-type {\n",
       "        vertical-align: middle;\n",
       "    }\n",
       "\n",
       "    .dataframe tbody tr th {\n",
       "        vertical-align: top;\n",
       "    }\n",
       "\n",
       "    .dataframe thead th {\n",
       "        text-align: right;\n",
       "    }\n",
       "</style>\n",
       "<table border=\"1\" class=\"dataframe\">\n",
       "  <thead>\n",
       "    <tr style=\"text-align: right;\">\n",
       "      <th></th>\n",
       "      <th>est</th>\n",
       "      <th>est le</th>\n",
       "      <th>est tellement</th>\n",
       "      <th>est un</th>\n",
       "      <th>film</th>\n",
       "      <th>film incroyable</th>\n",
       "      <th>génial</th>\n",
       "      <th>incroyable</th>\n",
       "      <th>le</th>\n",
       "      <th>le meilleur</th>\n",
       "      <th>...</th>\n",
       "      <th>meilleur</th>\n",
       "      <th>meilleur film</th>\n",
       "      <th>spider</th>\n",
       "      <th>spider man</th>\n",
       "      <th>spiderman</th>\n",
       "      <th>spiderman est</th>\n",
       "      <th>tellement</th>\n",
       "      <th>tellement génial</th>\n",
       "      <th>un</th>\n",
       "      <th>un film</th>\n",
       "    </tr>\n",
       "  </thead>\n",
       "  <tbody>\n",
       "    <tr>\n",
       "      <th>0</th>\n",
       "      <td>1</td>\n",
       "      <td>0</td>\n",
       "      <td>0</td>\n",
       "      <td>1</td>\n",
       "      <td>1</td>\n",
       "      <td>1</td>\n",
       "      <td>0</td>\n",
       "      <td>1</td>\n",
       "      <td>0</td>\n",
       "      <td>0</td>\n",
       "      <td>...</td>\n",
       "      <td>0</td>\n",
       "      <td>0</td>\n",
       "      <td>1</td>\n",
       "      <td>1</td>\n",
       "      <td>0</td>\n",
       "      <td>0</td>\n",
       "      <td>0</td>\n",
       "      <td>0</td>\n",
       "      <td>1</td>\n",
       "      <td>1</td>\n",
       "    </tr>\n",
       "    <tr>\n",
       "      <th>1</th>\n",
       "      <td>1</td>\n",
       "      <td>1</td>\n",
       "      <td>0</td>\n",
       "      <td>0</td>\n",
       "      <td>1</td>\n",
       "      <td>0</td>\n",
       "      <td>0</td>\n",
       "      <td>0</td>\n",
       "      <td>1</td>\n",
       "      <td>1</td>\n",
       "      <td>...</td>\n",
       "      <td>1</td>\n",
       "      <td>1</td>\n",
       "      <td>1</td>\n",
       "      <td>1</td>\n",
       "      <td>0</td>\n",
       "      <td>0</td>\n",
       "      <td>0</td>\n",
       "      <td>0</td>\n",
       "      <td>0</td>\n",
       "      <td>0</td>\n",
       "    </tr>\n",
       "    <tr>\n",
       "      <th>2</th>\n",
       "      <td>1</td>\n",
       "      <td>0</td>\n",
       "      <td>1</td>\n",
       "      <td>0</td>\n",
       "      <td>0</td>\n",
       "      <td>0</td>\n",
       "      <td>1</td>\n",
       "      <td>0</td>\n",
       "      <td>0</td>\n",
       "      <td>0</td>\n",
       "      <td>...</td>\n",
       "      <td>0</td>\n",
       "      <td>0</td>\n",
       "      <td>0</td>\n",
       "      <td>0</td>\n",
       "      <td>1</td>\n",
       "      <td>1</td>\n",
       "      <td>1</td>\n",
       "      <td>1</td>\n",
       "      <td>0</td>\n",
       "      <td>0</td>\n",
       "    </tr>\n",
       "  </tbody>\n",
       "</table>\n",
       "<p>3 rows × 22 columns</p>\n",
       "</div>"
      ],
      "text/plain": [
       "   est  est le  est tellement  est un  film  film incroyable  génial  \\\n",
       "0    1       0              0       1     1                1       0   \n",
       "1    1       1              0       0     1                0       0   \n",
       "2    1       0              1       0     0                0       1   \n",
       "\n",
       "   incroyable  le  le meilleur  ...  meilleur  meilleur film  spider  \\\n",
       "0           1   0            0  ...         0              0       1   \n",
       "1           0   1            1  ...         1              1       1   \n",
       "2           0   0            0  ...         0              0       0   \n",
       "\n",
       "   spider man  spiderman  spiderman est  tellement  tellement génial  un  \\\n",
       "0           1          0              0          0                 0   1   \n",
       "1           1          0              0          0                 0   0   \n",
       "2           0          1              1          1                 1   0   \n",
       "\n",
       "   un film  \n",
       "0        1  \n",
       "1        0  \n",
       "2        0  \n",
       "\n",
       "[3 rows x 22 columns]"
      ]
     },
     "execution_count": 10,
     "metadata": {},
     "output_type": "execute_result"
    }
   ],
   "source": [
    "vectorizer_bi = CountVectorizer(ngram_range=(1, 2))\n",
    "X_bi = vectorizer_bi.fit_transform(reviews)\n",
    "feature_names_bi = vectorizer_bi.get_feature_names_out()\n",
    "\n",
    "df = pd.DataFrame(data=X_bi.toarray(), columns=feature_names_bi)\n",
    "df"
   ]
  },
  {
   "cell_type": "markdown",
   "metadata": {},
   "source": [
    "## Partie II :"
   ]
  },
  {
   "cell_type": "markdown",
   "metadata": {},
   "source": [
    "### 1)"
   ]
  },
  {
   "cell_type": "code",
   "execution_count": 17,
   "metadata": {},
   "outputs": [],
   "source": [
    "with open('alice.txt', 'r', encoding='utf-8') as file:\n",
    "    alice_text = file.read()"
   ]
  },
  {
   "cell_type": "code",
   "execution_count": 18,
   "metadata": {},
   "outputs": [],
   "source": [
    "alice_text = alice_text.replace('\\n',' ')\n",
    "alice_text = alice_text.lower()"
   ]
  },
  {
   "cell_type": "code",
   "execution_count": 19,
   "metadata": {},
   "outputs": [
    {
     "data": {
      "text/plain": [
       "'the project gutenberg ebook of alice’s adventures in wonderland, by lewis carroll  this ebook is for the use of anyone anywhere in the united states and most other parts of the world at no cost and wi'"
      ]
     },
     "execution_count": 19,
     "metadata": {},
     "output_type": "execute_result"
    }
   ],
   "source": [
    "alice_text[:200]"
   ]
  },
  {
   "cell_type": "markdown",
   "metadata": {},
   "source": [
    "### 2)"
   ]
  },
  {
   "cell_type": "code",
   "execution_count": 20,
   "metadata": {},
   "outputs": [
    {
     "name": "stderr",
     "output_type": "stream",
     "text": [
      "[nltk_data] Downloading package punkt to\n",
      "[nltk_data]     C:\\Users\\ASUS\\AppData\\Roaming\\nltk_data...\n",
      "[nltk_data]   Package punkt is already up-to-date!\n"
     ]
    },
    {
     "data": {
      "text/plain": [
       "True"
      ]
     },
     "execution_count": 20,
     "metadata": {},
     "output_type": "execute_result"
    }
   ],
   "source": [
    "nltk.download('punkt')"
   ]
  },
  {
   "cell_type": "code",
   "execution_count": 21,
   "metadata": {},
   "outputs": [],
   "source": [
    "sentences = sent_tokenize(alice_text)\n",
    "tokenized_sentences = [word_tokenize(sentence) for sentence in sentences]"
   ]
  },
  {
   "cell_type": "code",
   "execution_count": 22,
   "metadata": {},
   "outputs": [
    {
     "data": {
      "text/plain": [
       "1091"
      ]
     },
     "execution_count": 22,
     "metadata": {},
     "output_type": "execute_result"
    }
   ],
   "source": [
    "len(tokenized_sentences)"
   ]
  },
  {
   "cell_type": "code",
   "execution_count": 23,
   "metadata": {},
   "outputs": [
    {
     "name": "stdout",
     "output_type": "stream",
     "text": [
      "Phrase 1: ['the', 'project', 'gutenberg', 'ebook', 'of', 'alice', '’', 's', 'adventures', 'in', 'wonderland', ',', 'by', 'lewis', 'carroll', 'this', 'ebook', 'is', 'for', 'the', 'use', 'of', 'anyone', 'anywhere', 'in', 'the', 'united', 'states', 'and', 'most', 'other', 'parts', 'of', 'the', 'world', 'at', 'no', 'cost', 'and', 'with', 'almost', 'no', 'restrictions', 'whatsoever', '.']\n",
      "Phrase 2: ['you', 'may', 'copy', 'it', ',', 'give', 'it', 'away', 'or', 're-use', 'it', 'under', 'the', 'terms', 'of', 'the', 'project', 'gutenberg', 'license', 'included', 'with', 'this', 'ebook', 'or', 'online', 'at', 'www.gutenberg.org', '.']\n",
      "Phrase 3: ['if', 'you', 'are', 'not', 'located', 'in', 'the', 'united', 'states', ',', 'you', 'will', 'have', 'to', 'check', 'the', 'laws', 'of', 'the', 'country', 'where', 'you', 'are', 'located', 'before', 'using', 'this', 'ebook', '.']\n",
      "Phrase 4: ['title', ':', 'alice', '’', 's', 'adventures', 'in', 'wonderland', 'author', ':', 'lewis', 'carroll', 'release', 'date', ':', 'january', ',', '1991', '[', 'ebook', '#', '11', ']', '[', 'most', 'recently', 'updated', ':', 'october', '12', ',', '2020', ']', 'language', ':', 'english', 'character', 'set', 'encoding', ':', 'utf-8', 'produced', 'by', ':', 'arthur', 'dibianca', 'and', 'david', 'widger', '*', '*', '*', 'start', 'of', 'the', 'project', 'gutenberg', 'ebook', 'alice', '’', 's', 'adventures', 'in', 'wonderland', '*', '*', '*', '[', 'illustration', ']', 'alice', '’', 's', 'adventures', 'in', 'wonderland', 'by', 'lewis', 'carroll', 'the', 'millennium', 'fulcrum', 'edition', '3.0', 'contents', 'chapter', 'i.', 'down', 'the', 'rabbit-hole', 'chapter', 'ii', '.']\n",
      "Phrase 5: ['the', 'pool', 'of', 'tears', 'chapter', 'iii', '.']\n"
     ]
    }
   ],
   "source": [
    "for i in range(5):\n",
    "    print(f\"Phrase {i + 1}: {tokenized_sentences[i]}\")"
   ]
  },
  {
   "cell_type": "markdown",
   "metadata": {},
   "source": [
    "### 3)\n"
   ]
  },
  {
   "cell_type": "code",
   "execution_count": 17,
   "metadata": {},
   "outputs": [],
   "source": [
    "# tokenized_words = word_tokenize(alice_text)"
   ]
  },
  {
   "cell_type": "code",
   "execution_count": 25,
   "metadata": {},
   "outputs": [],
   "source": [
    "common_params = {\n",
    "    'min_count': 2,\n",
    "    'vector_size': 100,\n",
    "    'window': 5\n",
    "}"
   ]
  },
  {
   "cell_type": "code",
   "execution_count": 26,
   "metadata": {},
   "outputs": [],
   "source": [
    "cbow_model = Word2Vec(sentences=tokenized_sentences, sg=0, **common_params)\n",
    "\n",
    "skipgram_model = Word2Vec(sentences=tokenized_sentences, sg=1, **common_params)\n",
    "\n",
    "cbow_model.save('cbow_model.bin')\n",
    "skipgram_model.save('skipgram_model.bin')"
   ]
  },
  {
   "cell_type": "markdown",
   "metadata": {},
   "source": [
    "### 4)"
   ]
  },
  {
   "cell_type": "code",
   "execution_count": 27,
   "metadata": {},
   "outputs": [],
   "source": [
    "word1 = 'better'\n",
    "word2 = 'worse'\n",
    "word3 = 'sun'"
   ]
  },
  {
   "cell_type": "code",
   "execution_count": 28,
   "metadata": {},
   "outputs": [
    {
     "data": {
      "text/plain": [
       "0.9834384"
      ]
     },
     "execution_count": 28,
     "metadata": {},
     "output_type": "execute_result"
    }
   ],
   "source": [
    "cbow_model.wv.similarity(word1, word2)"
   ]
  },
  {
   "cell_type": "code",
   "execution_count": 29,
   "metadata": {},
   "outputs": [
    {
     "data": {
      "text/plain": [
       "0.87874806"
      ]
     },
     "execution_count": 29,
     "metadata": {},
     "output_type": "execute_result"
    }
   ],
   "source": [
    "cbow_model.wv.similarity(word1, word3)"
   ]
  },
  {
   "cell_type": "code",
   "execution_count": 30,
   "metadata": {},
   "outputs": [
    {
     "data": {
      "text/plain": [
       "0.96743923"
      ]
     },
     "execution_count": 30,
     "metadata": {},
     "output_type": "execute_result"
    }
   ],
   "source": [
    "skipgram_model.wv.similarity(word1, word2)"
   ]
  },
  {
   "cell_type": "code",
   "execution_count": 31,
   "metadata": {},
   "outputs": [
    {
     "data": {
      "text/plain": [
       "0.95921224"
      ]
     },
     "execution_count": 31,
     "metadata": {},
     "output_type": "execute_result"
    }
   ],
   "source": [
    "skipgram_model.wv.similarity(word1, word3)"
   ]
  },
  {
   "cell_type": "markdown",
   "metadata": {},
   "source": [
    "### 5)"
   ]
  },
  {
   "cell_type": "code",
   "execution_count": 32,
   "metadata": {},
   "outputs": [],
   "source": [
    "chosen_word = 'dog'"
   ]
  },
  {
   "cell_type": "code",
   "execution_count": 33,
   "metadata": {},
   "outputs": [
    {
     "data": {
      "text/plain": [
       "[('ever', 0.9796494245529175),\n",
       " ('trying', 0.97946697473526),\n",
       " ('_i_', 0.9791896343231201),\n",
       " ('i', 0.979085385799408),\n",
       " ('near', 0.9790197014808655),\n",
       " ('mouse', 0.9788962006568909),\n",
       " ('you', 0.9788196086883545),\n",
       " ('caterpillar', 0.9787501692771912),\n",
       " ('ve', 0.9787386655807495),\n",
       " ('united', 0.9787285923957825)]"
      ]
     },
     "execution_count": 33,
     "metadata": {},
     "output_type": "execute_result"
    }
   ],
   "source": [
    "cbow_model.wv.most_similar(chosen_word)"
   ]
  },
  {
   "cell_type": "code",
   "execution_count": 34,
   "metadata": {},
   "outputs": [
    {
     "data": {
      "text/plain": [
       "[('trial', 0.9979236125946045),\n",
       " ('changed', 0.9979097247123718),\n",
       " ('used', 0.9978994727134705),\n",
       " ('lessons', 0.9978406429290771),\n",
       " ('nobody', 0.9978319406509399),\n",
       " ('fancy', 0.9977988004684448),\n",
       " ('always', 0.9977502226829529),\n",
       " ('asking', 0.9977481961250305),\n",
       " ('pleased', 0.9976670742034912),\n",
       " ('song', 0.9976446032524109)]"
      ]
     },
     "execution_count": 34,
     "metadata": {},
     "output_type": "execute_result"
    }
   ],
   "source": [
    "skipgram_model.wv.most_similar(chosen_word)"
   ]
  },
  {
   "cell_type": "code",
   "execution_count": null,
   "metadata": {},
   "outputs": [],
   "source": []
  }
 ],
 "metadata": {
  "kernelspec": {
   "display_name": "Python 3",
   "language": "python",
   "name": "python3"
  },
  "language_info": {
   "codemirror_mode": {
    "name": "ipython",
    "version": 3
   },
   "file_extension": ".py",
   "mimetype": "text/x-python",
   "name": "python",
   "nbconvert_exporter": "python",
   "pygments_lexer": "ipython3",
   "version": "3.10.11"
  }
 },
 "nbformat": 4,
 "nbformat_minor": 2
}
