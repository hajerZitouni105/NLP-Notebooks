{
  "cells": [
    {
      "cell_type": "markdown",
      "metadata": {
        "id": "RneO-Gk7upCU"
      },
      "source": [
        "# TP 4 : Analyse morphologique & POS (Morphosyntaxique)"
      ]
    },
    {
      "cell_type": "markdown",
      "metadata": {
        "id": "utxfgiPavSZg"
      },
      "source": [
        " **Partie I :**"
      ]
    },
    {
      "cell_type": "code",
      "execution_count": 1,
      "metadata": {
        "id": "Usdcd2WKguxU"
      },
      "outputs": [],
      "source": [
        "import spacy\n",
        "\n",
        "taln = spacy.load(\"en_core_web_sm\")"
      ]
    },
    {
      "cell_type": "markdown",
      "metadata": {
        "id": "XKHkwlYZSzDe"
      },
      "source": [
        "**2.Qu'est-ce qu'un modèle de langue ?**\n",
        "\n",
        "Un modèle de langue est un outil informatique utilisé dans le traitement automatique du langage naturel (TALN) pour comprendre et générer du langage humain.\n",
        "\n",
        "Il est construit à partir de techniques statistiques, linguistiques et informatiques pour attribuer des probabilités à des séquences de mots ou de caractères dans une langue donnée."
      ]
    },
    {
      "cell_type": "code",
      "execution_count": 7,
      "metadata": {
        "colab": {
          "base_uri": "https://localhost:8080/"
        },
        "id": "KAz1g2Mng5Qh",
        "outputId": "26a93a32-58c6-4d74-dd23-01f0399c54a4"
      },
      "outputs": [
        {
          "data": {
            "text/plain": [
              "spacy.tokens.doc.Doc"
            ]
          },
          "execution_count": 7,
          "metadata": {},
          "output_type": "execute_result"
        }
      ],
      "source": [
        "text=\"we like to play football. Ihated it in my childhood though\"\n",
        "\n",
        "#Transformer le texte en un objet\n",
        "# Transform the text into a Doc object\n",
        "doc = taln(text)\n",
        "\n",
        "# Print the type of the Doc object\n",
        "type(doc)"
      ]
    },
    {
      "cell_type": "markdown",
      "metadata": {
        "id": "FuAlC_HRlJqw"
      },
      "source": [
        "**4. Analyse Lexical : Morphologique**"
      ]
    },
    {
      "cell_type": "code",
      "execution_count": 14,
      "metadata": {
        "colab": {
          "base_uri": "https://localhost:8080/"
        },
        "id": "-tIjIstRlJd2",
        "outputId": "8d1866f8-4127-42f4-a44a-d4d8a1def5ed"
      },
      "outputs": [
        {
          "name": "stdout",
          "output_type": "stream",
          "text": [
            "we          Case=Nom|Number=Plur|Person=1|PronType=Prs\n",
            "like        Tense=Pres|VerbForm=Fin\n",
            "to          \n",
            "play        VerbForm=Inf\n",
            "football    Number=Sing\n",
            ".           PunctType=Peri\n",
            "Ihated      Tense=Past|VerbForm=Fin\n",
            "it          Case=Acc|Gender=Neut|Number=Sing|Person=3|PronType=Prs\n",
            "in          \n",
            "my          Number=Sing|Person=1|Poss=Yes|PronType=Prs\n",
            "childhood   Number=Sing\n",
            "though      \n"
          ]
        }
      ],
      "source": [
        "for word in doc:\n",
        "  print(f'{word.text:{12}}{word.morph}')"
      ]
    },
    {
      "cell_type": "code",
      "execution_count": 16,
      "metadata": {
        "colab": {
          "base_uri": "https://localhost:8080/"
        },
        "id": "bfEW0uQ3m90C",
        "outputId": "e641c523-90aa-4307-9885-d43e36e29492"
      },
      "outputs": [
        {
          "name": "stdout",
          "output_type": "stream",
          "text": [
            "        Token  Nombre\n",
            "0          we  [Plur]\n",
            "1        like     N/A\n",
            "2          to     N/A\n",
            "3        play     N/A\n",
            "4    football  [Sing]\n",
            "5           .     N/A\n",
            "6      Ihated     N/A\n",
            "7          it  [Sing]\n",
            "8          in     N/A\n",
            "9          my  [Sing]\n",
            "10  childhood  [Sing]\n",
            "11     though     N/A\n"
          ]
        }
      ],
      "source": [
        "import pandas as pd\n",
        "# Initialiser une liste pour stocker les informations morphologiques sur le nombre\n",
        "# Créer une liste de dictionnaires contenant les informations morphologiques pour chaque token\n",
        "donnees_tokens = []\n",
        "for token in doc:\n",
        "    donnees_tokens.append({\n",
        "        'Texte': token.text,\n",
        "        'Nombre': token.morph.get('Number', 'N/A')  # Obtenir l'information sur le nombre, sinon 'N/A'\n",
        "    })\n",
        "\n",
        "# Créer un DataFrame à partir de la liste de dictionnaires\n",
        "df = pd.DataFrame(donnees_tokens)\n",
        "\n",
        "# Afficher le DataFrame\n",
        "print(df)\n",
        "\n"
      ]
    },
    {
      "cell_type": "code",
      "execution_count": null,
      "metadata": {
        "colab": {
          "base_uri": "https://localhost:8080/"
        },
        "id": "aJGhiIQQm9wi",
        "outputId": "89f41595-8550-4f05-99db-faa33ac2ee5a"
      },
      "outputs": [
        {
          "name": "stdout",
          "output_type": "stream",
          "text": [
            "        Token                              Analyse morphologique\n",
            "0          we  Case: Nom, Number: Plur, Person: 1, PronType: Prs\n",
            "1        like                         Tense: Pres, VerbForm: Fin\n",
            "2          to                                                   \n",
            "3        play                                      VerbForm: Inf\n",
            "4    football                                       Number: Sing\n",
            "5           .                                    PunctType: Peri\n",
            "6      Ihated                         Tense: Past, VerbForm: Fin\n",
            "7          it  Case: Acc, Gender: Neut, Number: Sing, Person:...\n",
            "8          in                                                   \n",
            "9          my  Number: Sing, Person: 1, Poss: Yes, PronType: Prs\n",
            "10  childhood                                       Number: Sing\n",
            "11     though                                                   \n"
          ]
        }
      ],
      "source": [
        "\n",
        "# Initialiser une liste pour stocker les informations morphologiques sur le nombre\n",
        "donnees_morphologiques = []\n",
        "\n",
        "# Parcourir chaque token dans l'objet Doc\n",
        "for token in doc:\n",
        "    # Extraire toutes les informations morphologiques pour chaque token\n",
        "    morph_info = token.morph.to_dict()\n",
        "\n",
        "    # Construire une chaîne contenant toutes les informations morphologiques\n",
        "    morph_string = ', '.join([f\"{key}: {value}\" for key, value in morph_info.items()])\n",
        "    #'.join(...) : join est utilisée pour combiner toutes les chaînes de caractères générées dans l'étape précédente en une seule grande chaîne.\n",
        "\n",
        "    # Ajouter les informations morphologiques à la liste\n",
        "    donnees_morphologiques.append({'Token': token.text, 'Analyse morphologique': morph_string})\n",
        "\n",
        "# Créer un DataFrame à partir de la liste des informations morphologiques\n",
        "df = pd.DataFrame(donnees_morphologiques)\n",
        "\n",
        "# Afficher le DataFrame\n",
        "print(df)"
      ]
    },
    {
      "cell_type": "markdown",
      "metadata": {
        "id": "RU_2_R4ssj2j"
      },
      "source": [
        "**Analyse Morphosyntaxique (POS)**\n",
        "\n",
        "l’information morphosyntaxique, l’étiquette ainsi que\n",
        "l’explication de cette étiquette."
      ]
    },
    {
      "cell_type": "code",
      "execution_count": null,
      "metadata": {
        "colab": {
          "base_uri": "https://localhost:8080/"
        },
        "id": "RsA3h7Nwm9rj",
        "outputId": "c5c5d79d-5462-4ac6-a21f-ae6587e76969"
      },
      "outputs": [
        {
          "name": "stdout",
          "output_type": "stream",
          "text": [
            "we:\n",
            "- Part of speech: PRON\n",
            "- Tag: PRP\n",
            "- Explanation: pronoun, personal\n",
            "\n",
            "like:\n",
            "- Part of speech: VERB\n",
            "- Tag: VBP\n",
            "- Explanation: verb, non-3rd person singular present\n",
            "\n",
            "to:\n",
            "- Part of speech: PART\n",
            "- Tag: TO\n",
            "- Explanation: infinitival \"to\"\n",
            "\n",
            "play:\n",
            "- Part of speech: VERB\n",
            "- Tag: VB\n",
            "- Explanation: verb, base form\n",
            "\n",
            "football:\n",
            "- Part of speech: NOUN\n",
            "- Tag: NN\n",
            "- Explanation: noun, singular or mass\n",
            "\n",
            ".:\n",
            "- Part of speech: PUNCT\n",
            "- Tag: .\n",
            "- Explanation: punctuation mark, sentence closer\n",
            "\n",
            "Ihated:\n",
            "- Part of speech: VERB\n",
            "- Tag: VBD\n",
            "- Explanation: verb, past tense\n",
            "\n",
            "it:\n",
            "- Part of speech: PRON\n",
            "- Tag: PRP\n",
            "- Explanation: pronoun, personal\n",
            "\n",
            "in:\n",
            "- Part of speech: ADP\n",
            "- Tag: IN\n",
            "- Explanation: conjunction, subordinating or preposition\n",
            "\n",
            "my:\n",
            "- Part of speech: PRON\n",
            "- Tag: PRP$\n",
            "- Explanation: pronoun, possessive\n",
            "\n",
            "childhood:\n",
            "- Part of speech: NOUN\n",
            "- Tag: NN\n",
            "- Explanation: noun, singular or mass\n",
            "\n",
            "though:\n",
            "- Part of speech: ADV\n",
            "- Tag: RB\n",
            "- Explanation: adverb\n",
            "\n"
          ]
        }
      ],
      "source": [
        "# Display morphosyntactic information for each token\n",
        "for token in doc:\n",
        "    print(f\"{token.text}:\")\n",
        "    print(f\"- Part of speech: {token.pos_}\")\n",
        "    print(f\"- Tag: {token.tag_}\")\n",
        "    print(f\"- Explanation: {spacy.explain(token.tag_)}\")\n",
        "    print()"
      ]
    },
    {
      "cell_type": "markdown",
      "metadata": {
        "id": "dkW516qSunLZ"
      },
      "source": [
        "**Exercice 2 :**"
      ]
    },
    {
      "cell_type": "markdown",
      "metadata": {
        "id": "QvAnS6Zewh76"
      },
      "source": [
        "**L'étiquetage morphosyntaxique, ou POS tagging**\n",
        "\n",
        "  Il consiste à attribuer à chaque mot d'une phrase une étiquette correspondant à sa catégorie grammaticale ou à sa fonction dans la phrase. Cette tâche est essentielle pour comprendre la structure grammaticale des phrases, ce qui facilite la compréhension globale du sens."
      ]
    },
    {
      "cell_type": "code",
      "execution_count": 28,
      "metadata": {
        "colab": {
          "base_uri": "https://localhost:8080/"
        },
        "id": "LN6ZI8rbwfz0",
        "outputId": "6c22079b-e80a-46b2-87e3-42d904ab6783"
      },
      "outputs": [
        {
          "name": "stdout",
          "output_type": "stream",
          "text": [
            "Phrase: Can you google it?\n",
            "Mot: google, POS_TAG: VB\n",
            "\n",
            "Phrase: Can you search it on google?\n",
            "Mot: google, POS_TAG: NNP\n",
            "\n"
          ]
        }
      ],
      "source": [
        "import spacy\n",
        "\n",
        "# Charger le modèle de langue anglaise\n",
        "taln = spacy.load(\"en_core_web_sm\")\n",
        "\n",
        "# Définir les phrases\n",
        "phrases = [\n",
        "    \"Can you google it?\",\n",
        "    \"Can you search it on google?\"\n",
        "]\n",
        "\n",
        "# Analyser chaque phrase et afficher l'étiquette morphosyntaxique du mot \"google\"\n",
        "for phrase in phrases:\n",
        "    doc = taln(phrase)\n",
        "    for token in doc:\n",
        "        if token.text == \"google\":\n",
        "            print(f\"Phrase: {phrase}\")\n",
        "            print(f\"Mot: {token.text}, POS_TAG: {token.tag_}\\n\")\n"
      ]
    },
    {
      "cell_type": "code",
      "execution_count": 34,
      "metadata": {
        "id": "YDhqBXwzwTN7"
      },
      "outputs": [],
      "source": [
        "# Définir les phrases\n",
        "phrase1 = \"Can you google it?\"\n",
        "phrase2 = \"Can you search it on google?\"\n",
        "# Fusionner les deux phrases\n",
        "phrases_fusionnees = phrase1 + \" \" + phrase2\n",
        "doc = taln(phrases_fusionnees)\n",
        "# Utiliser la méthode count_by pour compter les occurrences de chaque étiquette POS\n",
        "occurrences_pos = doc.count_by(spacy.attrs.POS)"
      ]
    },
    {
      "cell_type": "code",
      "execution_count": null,
      "metadata": {
        "colab": {
          "base_uri": "https://localhost:8080/"
        },
        "id": "eK2iVYTbyCH0",
        "outputId": "496d00f0-8699-4b20-db8c-cf83059a45a8"
      },
      "outputs": [
        {
          "name": "stdout",
          "output_type": "stream",
          "text": [
            "87. AUX : 2\n",
            "95. PRON : 4\n",
            "100. VERB : 2\n",
            "97. PUNCT : 2\n",
            "85. ADP : 1\n",
            "96. PROPN : 1\n"
          ]
        }
      ],
      "source": [
        "# Afficher le nombre d'occurrences de chaque étiquette POS avec leurs étiquettes\n",
        "for pos_id, count in occurrences_pos.items():\n",
        "    pos_label = doc.vocab[pos_id].text\n",
        "    print(f\"{pos_id}. {pos_label} : {count}\")"
      ]
    },
    {
      "cell_type": "code",
      "execution_count": 36,
      "metadata": {
        "colab": {
          "base_uri": "https://localhost:8080/",
          "height": 354
        },
        "id": "3agtbEoOpdmd",
        "outputId": "a11b8ad3-65b4-4bf7-d351-a3e2cc829003"
      },
      "outputs": [
        {
          "data": {
            "text/html": [
              "<span class=\"tex2jax_ignore\"><svg xmlns=\"http://www.w3.org/2000/svg\" xmlns:xlink=\"http://www.w3.org/1999/xlink\" xml:lang=\"en\" id=\"8a0780c588d547978d8aa41467f88921-0\" class=\"displacy\" width=\"1800\" height=\"312.0\" direction=\"ltr\" style=\"max-width: none; height: 312.0px; color: #000000; background: #ffffff; font-family: Arial; direction: ltr\">\n",
              "<text class=\"displacy-token\" fill=\"currentColor\" text-anchor=\"middle\" y=\"222.0\">\n",
              "    <tspan class=\"displacy-word\" fill=\"currentColor\" x=\"50\">Can</tspan>\n",
              "    <tspan class=\"displacy-tag\" dy=\"2em\" fill=\"currentColor\" x=\"50\">AUX</tspan>\n",
              "</text>\n",
              "\n",
              "<text class=\"displacy-token\" fill=\"currentColor\" text-anchor=\"middle\" y=\"222.0\">\n",
              "    <tspan class=\"displacy-word\" fill=\"currentColor\" x=\"225\">you</tspan>\n",
              "    <tspan class=\"displacy-tag\" dy=\"2em\" fill=\"currentColor\" x=\"225\">PRON</tspan>\n",
              "</text>\n",
              "\n",
              "<text class=\"displacy-token\" fill=\"currentColor\" text-anchor=\"middle\" y=\"222.0\">\n",
              "    <tspan class=\"displacy-word\" fill=\"currentColor\" x=\"400\">google</tspan>\n",
              "    <tspan class=\"displacy-tag\" dy=\"2em\" fill=\"currentColor\" x=\"400\">VERB</tspan>\n",
              "</text>\n",
              "\n",
              "<text class=\"displacy-token\" fill=\"currentColor\" text-anchor=\"middle\" y=\"222.0\">\n",
              "    <tspan class=\"displacy-word\" fill=\"currentColor\" x=\"575\">it?</tspan>\n",
              "    <tspan class=\"displacy-tag\" dy=\"2em\" fill=\"currentColor\" x=\"575\">PRON</tspan>\n",
              "</text>\n",
              "\n",
              "<text class=\"displacy-token\" fill=\"currentColor\" text-anchor=\"middle\" y=\"222.0\">\n",
              "    <tspan class=\"displacy-word\" fill=\"currentColor\" x=\"750\">Can</tspan>\n",
              "    <tspan class=\"displacy-tag\" dy=\"2em\" fill=\"currentColor\" x=\"750\">AUX</tspan>\n",
              "</text>\n",
              "\n",
              "<text class=\"displacy-token\" fill=\"currentColor\" text-anchor=\"middle\" y=\"222.0\">\n",
              "    <tspan class=\"displacy-word\" fill=\"currentColor\" x=\"925\">you</tspan>\n",
              "    <tspan class=\"displacy-tag\" dy=\"2em\" fill=\"currentColor\" x=\"925\">PRON</tspan>\n",
              "</text>\n",
              "\n",
              "<text class=\"displacy-token\" fill=\"currentColor\" text-anchor=\"middle\" y=\"222.0\">\n",
              "    <tspan class=\"displacy-word\" fill=\"currentColor\" x=\"1100\">search</tspan>\n",
              "    <tspan class=\"displacy-tag\" dy=\"2em\" fill=\"currentColor\" x=\"1100\">VERB</tspan>\n",
              "</text>\n",
              "\n",
              "<text class=\"displacy-token\" fill=\"currentColor\" text-anchor=\"middle\" y=\"222.0\">\n",
              "    <tspan class=\"displacy-word\" fill=\"currentColor\" x=\"1275\">it</tspan>\n",
              "    <tspan class=\"displacy-tag\" dy=\"2em\" fill=\"currentColor\" x=\"1275\">PRON</tspan>\n",
              "</text>\n",
              "\n",
              "<text class=\"displacy-token\" fill=\"currentColor\" text-anchor=\"middle\" y=\"222.0\">\n",
              "    <tspan class=\"displacy-word\" fill=\"currentColor\" x=\"1450\">on</tspan>\n",
              "    <tspan class=\"displacy-tag\" dy=\"2em\" fill=\"currentColor\" x=\"1450\">ADP</tspan>\n",
              "</text>\n",
              "\n",
              "<text class=\"displacy-token\" fill=\"currentColor\" text-anchor=\"middle\" y=\"222.0\">\n",
              "    <tspan class=\"displacy-word\" fill=\"currentColor\" x=\"1625\">google?</tspan>\n",
              "    <tspan class=\"displacy-tag\" dy=\"2em\" fill=\"currentColor\" x=\"1625\">PROPN</tspan>\n",
              "</text>\n",
              "\n",
              "<g class=\"displacy-arrow\">\n",
              "    <path class=\"displacy-arc\" id=\"arrow-8a0780c588d547978d8aa41467f88921-0-0\" stroke-width=\"2px\" d=\"M70,177.0 C70,2.0 400.0,2.0 400.0,177.0\" fill=\"none\" stroke=\"currentColor\"/>\n",
              "    <text dy=\"1.25em\" style=\"font-size: 0.8em; letter-spacing: 1px\">\n",
              "        <textPath xlink:href=\"#arrow-8a0780c588d547978d8aa41467f88921-0-0\" class=\"displacy-label\" startOffset=\"50%\" side=\"left\" fill=\"currentColor\" text-anchor=\"middle\">aux</textPath>\n",
              "    </text>\n",
              "    <path class=\"displacy-arrowhead\" d=\"M70,179.0 L62,167.0 78,167.0\" fill=\"currentColor\"/>\n",
              "</g>\n",
              "\n",
              "<g class=\"displacy-arrow\">\n",
              "    <path class=\"displacy-arc\" id=\"arrow-8a0780c588d547978d8aa41467f88921-0-1\" stroke-width=\"2px\" d=\"M245,177.0 C245,89.5 395.0,89.5 395.0,177.0\" fill=\"none\" stroke=\"currentColor\"/>\n",
              "    <text dy=\"1.25em\" style=\"font-size: 0.8em; letter-spacing: 1px\">\n",
              "        <textPath xlink:href=\"#arrow-8a0780c588d547978d8aa41467f88921-0-1\" class=\"displacy-label\" startOffset=\"50%\" side=\"left\" fill=\"currentColor\" text-anchor=\"middle\">nsubj</textPath>\n",
              "    </text>\n",
              "    <path class=\"displacy-arrowhead\" d=\"M245,179.0 L237,167.0 253,167.0\" fill=\"currentColor\"/>\n",
              "</g>\n",
              "\n",
              "<g class=\"displacy-arrow\">\n",
              "    <path class=\"displacy-arc\" id=\"arrow-8a0780c588d547978d8aa41467f88921-0-2\" stroke-width=\"2px\" d=\"M420,177.0 C420,89.5 570.0,89.5 570.0,177.0\" fill=\"none\" stroke=\"currentColor\"/>\n",
              "    <text dy=\"1.25em\" style=\"font-size: 0.8em; letter-spacing: 1px\">\n",
              "        <textPath xlink:href=\"#arrow-8a0780c588d547978d8aa41467f88921-0-2\" class=\"displacy-label\" startOffset=\"50%\" side=\"left\" fill=\"currentColor\" text-anchor=\"middle\">dobj</textPath>\n",
              "    </text>\n",
              "    <path class=\"displacy-arrowhead\" d=\"M570.0,179.0 L578.0,167.0 562.0,167.0\" fill=\"currentColor\"/>\n",
              "</g>\n",
              "\n",
              "<g class=\"displacy-arrow\">\n",
              "    <path class=\"displacy-arc\" id=\"arrow-8a0780c588d547978d8aa41467f88921-0-3\" stroke-width=\"2px\" d=\"M770,177.0 C770,2.0 1100.0,2.0 1100.0,177.0\" fill=\"none\" stroke=\"currentColor\"/>\n",
              "    <text dy=\"1.25em\" style=\"font-size: 0.8em; letter-spacing: 1px\">\n",
              "        <textPath xlink:href=\"#arrow-8a0780c588d547978d8aa41467f88921-0-3\" class=\"displacy-label\" startOffset=\"50%\" side=\"left\" fill=\"currentColor\" text-anchor=\"middle\">aux</textPath>\n",
              "    </text>\n",
              "    <path class=\"displacy-arrowhead\" d=\"M770,179.0 L762,167.0 778,167.0\" fill=\"currentColor\"/>\n",
              "</g>\n",
              "\n",
              "<g class=\"displacy-arrow\">\n",
              "    <path class=\"displacy-arc\" id=\"arrow-8a0780c588d547978d8aa41467f88921-0-4\" stroke-width=\"2px\" d=\"M945,177.0 C945,89.5 1095.0,89.5 1095.0,177.0\" fill=\"none\" stroke=\"currentColor\"/>\n",
              "    <text dy=\"1.25em\" style=\"font-size: 0.8em; letter-spacing: 1px\">\n",
              "        <textPath xlink:href=\"#arrow-8a0780c588d547978d8aa41467f88921-0-4\" class=\"displacy-label\" startOffset=\"50%\" side=\"left\" fill=\"currentColor\" text-anchor=\"middle\">nsubj</textPath>\n",
              "    </text>\n",
              "    <path class=\"displacy-arrowhead\" d=\"M945,179.0 L937,167.0 953,167.0\" fill=\"currentColor\"/>\n",
              "</g>\n",
              "\n",
              "<g class=\"displacy-arrow\">\n",
              "    <path class=\"displacy-arc\" id=\"arrow-8a0780c588d547978d8aa41467f88921-0-5\" stroke-width=\"2px\" d=\"M1120,177.0 C1120,89.5 1270.0,89.5 1270.0,177.0\" fill=\"none\" stroke=\"currentColor\"/>\n",
              "    <text dy=\"1.25em\" style=\"font-size: 0.8em; letter-spacing: 1px\">\n",
              "        <textPath xlink:href=\"#arrow-8a0780c588d547978d8aa41467f88921-0-5\" class=\"displacy-label\" startOffset=\"50%\" side=\"left\" fill=\"currentColor\" text-anchor=\"middle\">dobj</textPath>\n",
              "    </text>\n",
              "    <path class=\"displacy-arrowhead\" d=\"M1270.0,179.0 L1278.0,167.0 1262.0,167.0\" fill=\"currentColor\"/>\n",
              "</g>\n",
              "\n",
              "<g class=\"displacy-arrow\">\n",
              "    <path class=\"displacy-arc\" id=\"arrow-8a0780c588d547978d8aa41467f88921-0-6\" stroke-width=\"2px\" d=\"M1120,177.0 C1120,2.0 1450.0,2.0 1450.0,177.0\" fill=\"none\" stroke=\"currentColor\"/>\n",
              "    <text dy=\"1.25em\" style=\"font-size: 0.8em; letter-spacing: 1px\">\n",
              "        <textPath xlink:href=\"#arrow-8a0780c588d547978d8aa41467f88921-0-6\" class=\"displacy-label\" startOffset=\"50%\" side=\"left\" fill=\"currentColor\" text-anchor=\"middle\">prep</textPath>\n",
              "    </text>\n",
              "    <path class=\"displacy-arrowhead\" d=\"M1450.0,179.0 L1458.0,167.0 1442.0,167.0\" fill=\"currentColor\"/>\n",
              "</g>\n",
              "\n",
              "<g class=\"displacy-arrow\">\n",
              "    <path class=\"displacy-arc\" id=\"arrow-8a0780c588d547978d8aa41467f88921-0-7\" stroke-width=\"2px\" d=\"M1470,177.0 C1470,89.5 1620.0,89.5 1620.0,177.0\" fill=\"none\" stroke=\"currentColor\"/>\n",
              "    <text dy=\"1.25em\" style=\"font-size: 0.8em; letter-spacing: 1px\">\n",
              "        <textPath xlink:href=\"#arrow-8a0780c588d547978d8aa41467f88921-0-7\" class=\"displacy-label\" startOffset=\"50%\" side=\"left\" fill=\"currentColor\" text-anchor=\"middle\">pobj</textPath>\n",
              "    </text>\n",
              "    <path class=\"displacy-arrowhead\" d=\"M1620.0,179.0 L1628.0,167.0 1612.0,167.0\" fill=\"currentColor\"/>\n",
              "</g>\n",
              "</svg></span>"
            ],
            "text/plain": [
              "<IPython.core.display.HTML object>"
            ]
          },
          "metadata": {},
          "output_type": "display_data"
        }
      ],
      "source": [
        "from spacy import displacy\n",
        "\n",
        "# Visualiser les étiquettes POS et leurs dépendances\n",
        "displacy.render(doc, style=\"dep\", jupyter=True)\n"
      ]
    },
    {
      "cell_type": "markdown",
      "metadata": {
        "id": "eW2aiUsVzRCU"
      },
      "source": [
        "**\"nsubj\"**  signifie sujet nominal utilisée pour marquer la relation entre un verbe et son sujet.\n",
        "\n",
        "**\"dobj\"** objet direct qui indique l'objet direct d'un verbe dans une phrase\n",
        "\n",
        "**\"aux\"** auxiliaire \"Can\" est un verbe auxiliaire qui modifie le verbe principal \"google\".\n",
        "\n",
        "**\"prep\"**  preposition entre deux mots, cela signifie que le premier mot est une préposition qui est suivie d'un complément introduit par cette préposition.\n",
        "\n",
        "**\"pobj\"** objet de préposition \"pobj\" entre deux mots, cela signifie que le premier mot est un objet de la préposition représentée par le deuxième mot.\n",
        "ce qui indique que \"google\" est l'objet de la préposition \"on\""
      ]
    },
    {
      "cell_type": "markdown",
      "metadata": {
        "id": "JmJRC9gCybMm"
      },
      "source": [
        "# Partie 2"
      ]
    },
    {
      "cell_type": "code",
      "execution_count": 38,
      "metadata": {
        "id": "Fngz_696sqxL"
      },
      "outputs": [],
      "source": [
        "import pandas as pd\n",
        "import nltk\n",
        "from nltk.tokenize import word_tokenize\n",
        "from nltk import pos_tag"
      ]
    },
    {
      "cell_type": "code",
      "execution_count": 39,
      "metadata": {
        "colab": {
          "base_uri": "https://localhost:8080/"
        },
        "id": "BOdrRHgzynbU",
        "outputId": "cda70ee1-3ce7-43b8-ee41-adb2ab9b8034"
      },
      "outputs": [
        {
          "name": "stderr",
          "output_type": "stream",
          "text": [
            "[nltk_data] Downloading package punkt to /root/nltk_data...\n",
            "[nltk_data]   Unzipping tokenizers/punkt.zip.\n"
          ]
        },
        {
          "data": {
            "text/plain": [
              "True"
            ]
          },
          "execution_count": 39,
          "metadata": {},
          "output_type": "execute_result"
        }
      ],
      "source": [
        "nltk.download('punkt')"
      ]
    },
    {
      "cell_type": "code",
      "execution_count": 40,
      "metadata": {
        "colab": {
          "base_uri": "https://localhost:8080/"
        },
        "id": "omgLo3wZytYu",
        "outputId": "8998be64-29d0-4930-9758-28ec9fee1a4f"
      },
      "outputs": [
        {
          "name": "stderr",
          "output_type": "stream",
          "text": [
            "[nltk_data] Downloading package averaged_perceptron_tagger to\n",
            "[nltk_data]     /root/nltk_data...\n",
            "[nltk_data]   Unzipping taggers/averaged_perceptron_tagger.zip.\n"
          ]
        },
        {
          "data": {
            "text/plain": [
              "True"
            ]
          },
          "execution_count": 40,
          "metadata": {},
          "output_type": "execute_result"
        }
      ],
      "source": [
        "nltk.download('averaged_perceptron_tagger')"
      ]
    },
    {
      "cell_type": "code",
      "execution_count": 47,
      "metadata": {
        "id": "PJRPw3n1tozf"
      },
      "outputs": [],
      "source": [
        "df = pd.read_csv('Womens_Clothing_E-Commerce_Reviews.csv')"
      ]
    },
    {
      "cell_type": "code",
      "execution_count": 48,
      "metadata": {
        "id": "DC9eFoy0yfZU"
      },
      "outputs": [],
      "source": [
        "def pos_tagging(review_text):\n",
        "    tokens = word_tokenize(str(review_text))\n",
        "    pos_tags = pos_tag(tokens)\n",
        "    return pos_tags"
      ]
    },
    {
      "cell_type": "code",
      "execution_count": null,
      "metadata": {
        "id": "HHETtqGRtwdN"
      },
      "outputs": [],
      "source": [
        "# Sélectionner un sous-ensemble de 10 000 avis\n",
        "df_subset = df.head(10000)\n",
        "df_subset = df_subset.copy()  # Crée une copie explicite du DataFrame\n",
        "# Appliquer la fonction de balisage POS à chaque révision du sous-ensemble\n",
        "df_subset['POS_tags'] = df_subset['Review Text'].apply(pos_tagging)"
      ]
    },
    {
      "cell_type": "code",
      "execution_count": null,
      "metadata": {
        "colab": {
          "base_uri": "https://localhost:8080/"
        },
        "id": "zynueAeDtwZ0",
        "outputId": "c1fac39a-8540-4a2f-b1ba-a52b14ca1108"
      },
      "outputs": [
        {
          "data": {
            "text/plain": [
              "0       [(Absolutely, RB), (wonderful, JJ), (-, :), (s...\n",
              "1       [(Love, VB), (this, DT), (dress, NN), (!, .), ...\n",
              "2       [(I, PRP), (had, VBD), (such, JJ), (high, JJ),...\n",
              "3       [(I, PRP), (love, VBP), (,, ,), (love, VBP), (...\n",
              "4       [(This, DT), (shirt, NN), (is, VBZ), (very, RB...\n",
              "                              ...                        \n",
              "9995    [(This, DT), (dress, NN), (is, VBZ), (quite, R...\n",
              "9996    [(Love, VB), (this, DT), (dress, NN), (!, .), ...\n",
              "9997    [(The, DT), (cut, NN), (is, VBZ), (perfect, JJ...\n",
              "9998    [(I, PRP), (love, VBP), (this, DT), (shirt, NN...\n",
              "9999    [(I, PRP), (adore, VBP), (this, DT), (top, JJ)...\n",
              "Name: POS_tags, Length: 10000, dtype: object"
            ]
          },
          "execution_count": 20,
          "metadata": {},
          "output_type": "execute_result"
        }
      ],
      "source": [
        "df_subset['POS_tags']"
      ]
    },
    {
      "cell_type": "code",
      "execution_count": null,
      "metadata": {
        "id": "afPzF_415Vvd"
      },
      "outputs": [],
      "source": [
        "# Créer une liste vide pour stocker les étiquettes POS\n",
        "all_pos_tags = []\n",
        "\n",
        "# Parcourir chaque ligne du DataFrame\n",
        "for tags in df_subset['POS_tags']:\n",
        "    # Parcourir chaque paire (mot, étiquette POS) dans les tags de chaque ligne\n",
        "    for  _,tag in tags:\n",
        "        # Ajouter l'étiquette POS à la liste\n",
        "        all_pos_tags.append(tag)\n"
      ]
    },
    {
      "cell_type": "code",
      "execution_count": null,
      "metadata": {
        "colab": {
          "base_uri": "https://localhost:8080/",
          "height": 590
        },
        "id": "xOGwJ7Z95VqK",
        "outputId": "c60fecab-4b85-4894-be2d-4da29a3e90b2"
      },
      "outputs": [
        {
          "data": {
            "image/png": "[encoded data removed]",
            "text/plain": [
              "<Figure size 1000x600 with 1 Axes>"
            ]
          },
          "metadata": {},
          "output_type": "display_data"
        }
      ],
      "source": [
        "import matplotlib.pyplot as plt\n",
        "\n",
        "# Compter les occurrences de chaque étiquette POS\n",
        "pos_tags_count = pd.Series(all_pos_tags).value_counts()\n",
        "# Visualiser les résultats sous forme d'histogramme\n",
        "plt.figure(figsize=(10, 6))\n",
        "pos_tags_count.plot(kind='bar')\n",
        "plt.title('Fréquence des étiquettes POS')\n",
        "plt.xlabel('Étiquette POS')\n",
        "plt.ylabel('Fréquence')\n",
        "plt.show()\n"
      ]
    },
    {
      "cell_type": "code",
      "execution_count": null,
      "metadata": {
        "colab": {
          "base_uri": "https://localhost:8080/"
        },
        "id": "M22jla_YACT9",
        "outputId": "b921b6ae-1029-4b93-e18f-eddc7e19d576"
      },
      "outputs": [
        {
          "name": "stdout",
          "output_type": "stream",
          "text": [
            "Les 15 premiers noms les plus courants :\n",
            "[('i', 13682), ('dress', 4114), ('size', 3640), ('color', 1921), ('fabric', 1915), ('fit', 1811), ('top', 1617), ('shirt', 1190), ('material', 1113), ('bit', 1108), ('length', 1070), ('sweater', 1031), ('colors', 1000), ('jeans', 957), ('quality', 930)]\n",
            "\n",
            "Les 15 premiers adjectifs les plus courants :\n",
            "[('i', 5236), ('great', 2501), ('small', 2008), ('top', 1457), ('little', 1448), ('soft', 1419), ('perfect', 1335), ('comfortable', 1257), ('nice', 1234), ('large', 1155), ('beautiful', 1090), ('cute', 849), ('other', 843), ('good', 810), ('much', 759)]\n"
          ]
        }
      ],
      "source": [
        "from collections import Counter\n",
        "import nltk\n",
        "from nltk.tokenize import word_tokenize\n",
        "from nltk import pos_tag\n",
        "\n",
        "\n",
        "# Fonction pour extraire les noms et les adjectifs\n",
        "def extract_nouns_and_adjectives(text):\n",
        "    tokens = word_tokenize(str((text)))\n",
        "    tagged_tokens = pos_tag(tokens)\n",
        "    nouns = [word for word, tag in tagged_tokens if tag.startswith('NN')]\n",
        "    adjectives = [word for word, tag in tagged_tokens if tag.startswith('JJ')]\n",
        "    return nouns, adjectives\n",
        "\n",
        "# Compter les occurrences de chaque mot\n",
        "all_nouns = []\n",
        "all_adjectives = []\n",
        "\n",
        "for review_text in df_subset['Review Text']:\n",
        "    nouns, adjectives = extract_nouns_and_adjectives(review_text)\n",
        "    all_nouns.extend(nouns)\n",
        "    all_adjectives.extend(adjectives)\n",
        "\n",
        "# Sélectionner les 15 premiers noms et adjectifs les plus courants\n",
        "common_nouns = Counter(all_nouns).most_common(15)\n",
        "common_adjectives = Counter(all_adjectives).most_common(15)\n",
        "\n",
        "# Afficher les résultats\n",
        "print(\"Les 15 premiers noms les plus courants :\")\n",
        "print(common_nouns)\n",
        "print(\"\\nLes 15 premiers adjectifs les plus courants :\")\n",
        "print(common_adjectives)\n"
      ]
    }
  ],
  "metadata": {
    "colab": {
      "provenance": []
    },
    "kernelspec": {
      "display_name": "Python 3",
      "name": "python3"
    },
    "language_info": {
      "name": "python"
    }
  },
  "nbformat": 4,
  "nbformat_minor": 0
}
