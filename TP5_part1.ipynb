{
  "cells": [
    {
      "cell_type": "markdown",
      "metadata": {
        "id": "fuEAP6mjaBtO"
      },
      "source": [
        "# TP 5 : Analyse syntaxique"
      ]
    },
    {
      "cell_type": "markdown",
      "metadata": {
        "id": "Akw14U_WaRMI"
      },
      "source": [
        "**Partie I :**"
      ]
    },
    {
      "cell_type": "code",
      "execution_count": null,
      "metadata": {
        "colab": {
          "base_uri": "https://localhost:8080/"
        },
        "id": "kJ0UwpjFFgi8",
        "outputId": "654733dc-5bf8-444d-f29b-e8e04a868009"
      },
      "outputs": [
        {
          "name": "stdout",
          "output_type": "stream",
          "text": [
            "Analyse de la phrase 1:\n",
            "(S\n",
            "  (NP Maryam/NN)\n",
            "  saw/VBD\n",
            "  (CLAUSE\n",
            "    (NP the/DT cat/NN)\n",
            "    (VP sit/VB (PP on/IN (NP the/DT mat/NN)))))\n",
            "\n",
            "Analyse de la phrase 2:\n",
            "(S\n",
            "  (NP Mohamed/NNP)\n",
            "  thinks/VBZ\n",
            "  (NP Maryam/NN)\n",
            "  saw/VBD\n",
            "  (CLAUSE\n",
            "    (NP the/DT cat/NN)\n",
            "    (VP sit/VB (PP on/IN (NP the/DT mat/NN)))))\n",
            "\n"
          ]
        }
      ],
      "source": [
        "import nltk\n",
        "\n",
        "# Phrases à analyser\n",
        "phrase = [(\"Maryam\", \"NN\"), (\"saw\", \"VBD\"), (\"the\", \"DT\"), (\"cat\", \"NN\"), (\"sit\", \"VB\"),\n",
        "          (\"on\", \"IN\"), (\"the\", \"DT\"), (\"mat\", \"NN\")]\n",
        "phrase2 = [(\"Mohamed\", \"NNP\"), (\"thinks\", \"VBZ\"), (\"Maryam\", \"NN\"), (\"saw\", \"VBD\"),\n",
        "           (\"the\", \"DT\"), (\"cat\", \"NN\"), (\"sit\", \"VB\"), (\"on\", \"IN\"), (\"the\", \"DT\"), (\"mat\", \"NN\")]\n",
        "\n",
        "# Définition des motifs pour l'analyseur syntaxique basé sur des expressions régulières\n",
        "pattern = r\"\"\"\n",
        "    NP: {<DT|JJ|NN.*>+}            # Nominal Phrase\n",
        "    PP: {<IN><NP>}                  # Prepositional Phrase\n",
        "    VP: {<VB.*><NP|PP|CLAUSE>+$}    # Verbal Phrase\n",
        "    CLAUSE: {<NP><VP>}              # Clause\n",
        "\"\"\"\n",
        "\n",
        "# Création de l'analyseur syntaxique avec les motifs spécifiés\n",
        "chunk_parser = nltk.RegexpParser(pattern)\n",
        "\n",
        "# Analyse des phrases\n",
        "for i, sentence in enumerate([phrase, phrase2], start=1):\n",
        "    print(f\"Analyse de la phrase {i}:\")\n",
        "    parsed = chunk_parser.parse(sentence)\n",
        "    print(parsed)\n",
        "    print()\n"
      ]
    },
    {
      "cell_type": "markdown",
      "metadata": {
        "id": "VqfZEV4WZHxG"
      },
      "source": [
        "\n",
        "Les deux phrases sont correctement segmentées en constituants syntaxiques tels que NP (Nominal Phrase), VP (Verbal Phrase) et CLAUSE.\n",
        "Cependant, dans la deuxième phrase, le nom \"Mohamed\" est interprété comme étant à l'extérieur de la clause, alors qu'il devrait normalement être inclus dans la clause.\n",
        "\n",
        "Pour corriger ce problème, nous devons ajuster la structure de la grammaire pour permettre au nom \"Mohamed\" d'être inclus dans la clause. Pour cela, nous devons ajouter une règle à la grammaire pour permettre qu'un NP soit suivi d'un VP."
      ]
    },
    {
      "cell_type": "code",
      "execution_count": null,
      "metadata": {
        "colab": {
          "base_uri": "https://localhost:8080/"
        },
        "id": "TjBsSn_-ZufK",
        "outputId": "366e94bf-c4dd-4a87-8298-5c412e1e3be5"
      },
      "outputs": [
        {
          "name": "stdout",
          "output_type": "stream",
          "text": [
            "Analyse de la phrase 1:\n",
            "(S\n",
            "  (NP Maryam/NN)\n",
            "  saw/VBD\n",
            "  (CLAUSE\n",
            "    (NP the/DT cat/NN)\n",
            "    (VP sit/VB (PP on/IN (NP the/DT mat/NN)))))\n",
            "\n",
            "Analyse de la phrase 2:\n",
            "(S\n",
            "  (NP Mohamed/NNP)\n",
            "  thinks/VBZ\n",
            "  (NP Maryam/NN)\n",
            "  saw/VBD\n",
            "  (CLAUSE\n",
            "    (NP the/DT cat/NN)\n",
            "    (VP sit/VB (PP on/IN (NP the/DT mat/NN)))))\n",
            "\n"
          ]
        }
      ],
      "source": [
        "import nltk\n",
        "\n",
        "\n",
        "# Définition des motifs pour l'analyseur syntaxique basé sur des expressions régulières\n",
        "pattern = r\"\"\"\n",
        "    NP: {<DT|JJ|NN.*>+}            # Nominal Phrase\n",
        "    PP: {<IN><NP>}                  # Prepositional Phrase\n",
        "    VP: {<VB.*><NP|PP|CLAUSE>+$}    # Verbal Phrase\n",
        "    CLAUSE: {<NP><VP>}              # Clause\n",
        "    S: {<NP><VP>}                   # Sentence\n",
        "\"\"\"\n",
        "\n",
        "# Création de l'analyseur syntaxique avec les motifs spécifiés\n",
        "chunk_parser = nltk.RegexpParser(pattern)\n",
        "\n",
        "# Analyse des phrases\n",
        "for i, sentence in enumerate([phrase, phrase2], start=1):\n",
        "    print(f\"Analyse de la phrase {i}:\")\n",
        "    parsed = chunk_parser.parse(sentence)\n",
        "    print(parsed)\n",
        "    print()\n"
      ]
    },
    {
      "cell_type": "markdown",
      "metadata": {
        "id": "b-cI7PTGZ9pk"
      },
      "source": [
        "Le problème rencontré précédemment a été corrigé avec succès. Maintenant, le nom \"Mohamed\" est correctement inclus dans la clause de la deuxième phrase, comme il se doit. Les deux phrases sont correctement analysées en termes de structure syntaxique."
      ]
    },
    {
      "cell_type": "markdown",
      "metadata": {
        "id": "LC0ce7aMaVDE"
      },
      "source": [
        "**Partie II :**"
      ]
    },
    {
      "cell_type": "code",
      "execution_count": null,
      "metadata": {
        "colab": {
          "base_uri": "https://localhost:8080/",
          "height": 211
        },
        "id": "1B3qo8tPaWw0",
        "outputId": "21423428-19d7-46e0-d356-e137cae260e1"
      },
      "outputs": [
        {
          "output_type": "error",
          "ename": "TypeError",
          "evalue": "GenericCoreNLPParser.__init__() got an unexpected keyword argument 'path_to_jar'",
          "traceback": [
            "\u001b[0;31m---------------------------------------------------------------------------\u001b[0m",
            "\u001b[0;31mTypeError\u001b[0m                                 Traceback (most recent call last)",
            "\u001b[0;32m<ipython-input-9-d8afd0afb6d1>\u001b[0m in \u001b[0;36m<cell line: 8>\u001b[0;34m()\u001b[0m\n\u001b[1;32m      6\u001b[0m \u001b[0;34m\u001b[0m\u001b[0m\n\u001b[1;32m      7\u001b[0m \u001b[0;31m# Initialisation du CoreNLPParser\u001b[0m\u001b[0;34m\u001b[0m\u001b[0;34m\u001b[0m\u001b[0m\n\u001b[0;32m----> 8\u001b[0;31m corenlp_parser = CoreNLPParser(\n\u001b[0m\u001b[1;32m      9\u001b[0m     \u001b[0mpath_to_jar\u001b[0m\u001b[0;34m=\u001b[0m\u001b[0mpath_to_jar\u001b[0m\u001b[0;34m,\u001b[0m\u001b[0;34m\u001b[0m\u001b[0;34m\u001b[0m\u001b[0m\n\u001b[1;32m     10\u001b[0m     \u001b[0mpath_to_models_jar\u001b[0m\u001b[0;34m=\u001b[0m\u001b[0mpath_to_models_jar\u001b[0m\u001b[0;34m,\u001b[0m\u001b[0;34m\u001b[0m\u001b[0;34m\u001b[0m\u001b[0m\n",
            "\u001b[0;31mTypeError\u001b[0m: GenericCoreNLPParser.__init__() got an unexpected keyword argument 'path_to_jar'"
          ]
        }
      ],
      "source": [
        "="
      ]
    },
    {
      "cell_type": "code",
      "execution_count": null,
      "metadata": {
        "id": "W0xhiVSSgNOP"
      },
      "outputs": [],
      "source": []
    },
    {
      "cell_type": "code",
      "execution_count": null,
      "metadata": {
        "id": "txAOSDI0hZjy"
      },
      "outputs": [],
      "source": []
    },
    {
      "cell_type": "code",
      "execution_count": null,
      "metadata": {
        "id": "zr4s5ElShV14"
      },
      "outputs": [],
      "source": []
    }
  ],
  "metadata": {
    "colab": {
      "provenance": []
    },
    "kernelspec": {
      "display_name": "Python 3",
      "name": "python3"
    },
    "language_info": {
      "name": "python"
    }
  },
  "nbformat": 4,
  "nbformat_minor": 0
}