{
 "cells": [
  {
   "cell_type": "code",
   "execution_count": 1,
   "metadata": {},
   "outputs": [
    {
     "name": "stdout",
     "output_type": "stream",
     "text": [
      "Texte transcrit :\n",
      "I believe you are just talking nonsense\n"
     ]
    }
   ],
   "source": [
    "#1 et 2\n",
    "import speech_recognition as sr\n",
    "\n",
    "# Charger le fichier audio\n",
    "audio_file = \"exemple_1.wav\"\n",
    "\n",
    "# Créer un objet Recognizer\n",
    "recognizer = sr.Recognizer()\n",
    "\n",
    "# Ouvrir le fichier audio en tant qu'objet AudioFile\n",
    "with sr.AudioFile(audio_file) as source:\n",
    "    # Enregistrer les données audio dans un objet AudioData\n",
    "    audio_data = recognizer.record(source)\n",
    "    \n",
    "    # Utiliser la reconnaissance vocale pour transcrire le texte\n",
    "    try:\n",
    "        text = recognizer.recognize_google(audio_data, language=\"en-US\")\n",
    "        print(\"Texte transcrit :\")\n",
    "        print(text)\n",
    "    except sr.UnknownValueError:\n",
    "        print(\"La reconnaissance vocale n'a pas pu comprendre l'audio.\")\n",
    "    except sr.RequestError as e:\n",
    "        print(\"Erreur lors de la demande à l'API Google Speech Recognition : {0}\".format(e))\n"
   ]
  },
  {
   "cell_type": "code",
   "execution_count": 2,
   "metadata": {},
   "outputs": [
    {
     "name": "stderr",
     "output_type": "stream",
     "text": [
      "c:\\Users\\21626\\AppData\\Local\\Programs\\Python\\Python310\\lib\\site-packages\\pydub\\utils.py:170: RuntimeWarning: Couldn't find ffmpeg or avconv - defaulting to ffmpeg, but may not work\n",
      "  warn(\"Couldn't find ffmpeg or avconv - defaulting to ffmpeg, but may not work\", RuntimeWarning)\n"
     ]
    },
    {
     "name": "stdout",
     "output_type": "stream",
     "text": [
      "chunks\\chunk_1.wav :  Here's a bird which he had fixed in a bowery or a country seat.\n",
      "chunks\\chunk_2.wav :  Add a short distance from the city.\n",
      "chunks\\chunk_3.wav :  Just that what is now called dutch street.\n",
      "chunks\\chunk_4.wav :  Soon abounded with proofs of his ingenuity.\n",
      "chunks\\chunk_5.wav :  Patent smoke.\n",
      "chunks\\chunk_6.wav :  It required a horse to work some.\n",
      "chunks\\chunk_7.wav :  Dutch ovens that roasted meat without fire.\n",
      "chunks\\chunk_8.wav :  Carts that went before the horses.\n",
      "chunks\\chunk_9.wav :  Weather cox that turned against the wind and other wrong-headed contrivances.\n",
      "chunks\\chunk_10.wav :  Set astonished and confounded all beholders.\n",
      "Texte complet transcrit :\n",
      "Here's a bird which he had fixed in a bowery or a country seat. Add a short distance from the city. Just that what is now called dutch street. Soon abounded with proofs of his ingenuity. Patent smoke. It required a horse to work some. Dutch ovens that roasted meat without fire. Carts that went before the horses. Weather cox that turned against the wind and other wrong-headed contrivances. Set astonished and confounded all beholders. \n"
     ]
    }
   ],
   "source": [
    "#La fonction transcription_grand_audio() fournie est conçue pour transcrire de grands fichiers audio en texte en utilisant la reconnaissance vocale.\n",
    "#3\n",
    "import speech_recognition as sr\n",
    "import os\n",
    "from pydub import AudioSegment\n",
    "from pydub.silence import split_on_silence\n",
    "\n",
    "def transcription_grand_audio(path):\n",
    "    r = sr.Recognizer()\n",
    "    sound = AudioSegment.from_wav(path)\n",
    "    chunks = split_on_silence(sound, min_silence_len=500, silence_thresh=sound.dBFS - 14, keep_silence=500)\n",
    "    folder_name = \"chunks\"\n",
    "    if not os.path.isdir(folder_name):\n",
    "        os.mkdir(folder_name)\n",
    "    whole_text = \"\"\n",
    "    for i, audio_chunk in enumerate(chunks, start=1):\n",
    "        chunk_filename = os.path.join(folder_name, f\"chunk_{i}.wav\")\n",
    "        audio_chunk.export(chunk_filename, format=\"wav\")\n",
    "        with sr.AudioFile(chunk_filename) as source:\n",
    "            audio_listened = r.record(source)\n",
    "            try:\n",
    "                text = r.recognize_google(audio_listened)\n",
    "            except sr.UnknownValueError as e:\n",
    "                print(\"Erreur :\", str(e))\n",
    "            else:\n",
    "                text = f\"{text.capitalize()}.\"\n",
    "                print(chunk_filename, \": \", text)\n",
    "                whole_text += text + \" \"\n",
    "    return whole_text\n",
    "\n",
    "# Utilisation de la fonction pour transcrire un fichier audio\n",
    "transcription = transcription_grand_audio(\"grand_audio.wav\")\n",
    "print(\"Texte complet transcrit :\")\n",
    "print(transcription)\n"
   ]
  },
  {
   "cell_type": "code",
   "execution_count": 6,
   "metadata": {},
   "outputs": [
    {
     "name": "stdout",
     "output_type": "stream",
     "text": [
      "Dites quelque chose...\n",
      "Texte transcrit :\n",
      "asthme\n"
     ]
    }
   ],
   "source": [
    "#4 et 5 \n",
    "import speech_recognition as sr\n",
    "\n",
    "def lire_speech_microphone(duree=5):\n",
    "    # Créer un objet Recognizer\n",
    "    recognizer = sr.Recognizer()\n",
    "    \n",
    "    # Utiliser le microphone comme source audio\n",
    "    with sr.Microphone() as source:\n",
    "        print(\"Dites quelque chose...\")\n",
    "        \n",
    "        # Réglage du temps d'écoute du microphone\n",
    "        recognizer.adjust_for_ambient_noise(source)\n",
    "        \n",
    "        # Enregistrement du discours pendant la durée spécifiée\n",
    "        audio = recognizer.listen(source, timeout=duree)\n",
    "        \n",
    "    try:\n",
    "        # Transcription du discours en texte\n",
    "        texte = recognizer.recognize_google(audio, language=\"fr-FR\")\n",
    "        print(\"Texte transcrit :\")\n",
    "        print(texte)\n",
    "    except sr.UnknownValueError:\n",
    "        print(\"Impossible de comprendre l'audio.\")\n",
    "    except sr.RequestError as e:\n",
    "        print(\"Erreur lors de la demande à l'API Google Speech Recognition : {0}\".format(e))\n",
    "\n",
    "# Lire un discours pendant 5 secondes\n",
    "lire_speech_microphone(duree=5)\n"
   ]
  },
  {
   "cell_type": "code",
   "execution_count": null,
   "metadata": {},
   "outputs": [],
   "source": []
  }
 ],
 "metadata": {
  "kernelspec": {
   "display_name": "Python 3",
   "language": "python",
   "name": "python3"
  },
  "language_info": {
   "codemirror_mode": {
    "name": "ipython",
    "version": 3
   },
   "file_extension": ".py",
   "mimetype": "text/x-python",
   "name": "python",
   "nbconvert_exporter": "python",
   "pygments_lexer": "ipython3",
   "version": "3.10.4"
  }
 },
 "nbformat": 4,
 "nbformat_minor": 2
}
